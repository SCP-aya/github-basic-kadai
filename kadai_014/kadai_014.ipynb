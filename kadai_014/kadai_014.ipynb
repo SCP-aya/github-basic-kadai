{
  "nbformat": 4,
  "nbformat_minor": 0,
  "metadata": {
    "colab": {
      "provenance": []
    },
    "kernelspec": {
      "name": "python3",
      "display_name": "Python 3"
    },
    "language_info": {
      "name": "python"
    }
  },
  "cells": [
    {
      "cell_type": "code",
      "source": [
        "# グローバルスコープ\n",
        "price1 = 100\n",
        "price2 = 200\n",
        "tax_rate = 1.1\n",
        "\n",
        "# 税込価格を計算（ローカルスコープ）\n",
        "def calculate_total_with_tax():\n",
        "    # ローカルスコープ：関数内で合計と税込価格を計算\n",
        "    total_price = price1 + price2  # 商品の合計\n",
        "    return total_price *  tax_rate # 税込価格\n",
        "\n",
        "# 合計（税込価格）\n",
        "result = calculate_total_with_tax()\n",
        "print(\"2商品の税込合計価格:\", result)"
      ],
      "metadata": {
        "colab": {
          "base_uri": "https://localhost:8080/"
        },
        "id": "Po0kY2IlWVJg",
        "outputId": "cec81af5-4f22-44bd-a8e1-6b0e349be2d5"
      },
      "execution_count": 16,
      "outputs": [
        {
          "output_type": "stream",
          "name": "stdout",
          "text": [
            "2商品の税込合計価格: 330.0\n"
          ]
        }
      ]
    }
  ]
}