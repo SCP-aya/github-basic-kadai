{
  "nbformat": 4,
  "nbformat_minor": 0,
  "metadata": {
    "colab": {
      "provenance": []
    },
    "kernelspec": {
      "name": "python3",
      "display_name": "Python 3"
    },
    "language_info": {
      "name": "python"
    }
  },
  "cells": [
    {
      "cell_type": "code",
      "source": [
        "# 台形の寸法\n",
        "up = 10\n",
        "down = 20\n",
        "height = 5\n",
        "\n",
        "# 台形の面積\n",
        "print((up + down) * height / 2, \"㎠\")"
      ],
      "metadata": {
        "colab": {
          "base_uri": "https://localhost:8080/"
        },
        "id": "jACo4umWrZej",
        "outputId": "ac1450d1-8e2d-4e0f-a141-5dfcbaf14e92"
      },
      "execution_count": 18,
      "outputs": [
        {
          "output_type": "stream",
          "name": "stdout",
          "text": [
            "75.0 ㎠\n"
          ]
        }
      ]
    }
  ]
}