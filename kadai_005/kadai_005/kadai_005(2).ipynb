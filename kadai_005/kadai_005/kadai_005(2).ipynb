{
  "nbformat": 4,
  "nbformat_minor": 0,
  "metadata": {
    "colab": {
      "provenance": []
    },
    "kernelspec": {
      "name": "python3",
      "display_name": "Python 3"
    },
    "language_info": {
      "name": "python"
    }
  },
  "cells": [
    {
      "cell_type": "code",
      "source": [
        "# 台形の寸法\n",
        "apper = 10\n",
        "bottom = 20\n",
        "height = 5\n",
        "\n",
        "# 台形の面積計算\n",
        "area = (apper + bottom) * height / 2\n",
        "\n",
        "# 計算結果\n",
        "print(str(area) + \"㎠\")"
      ],
      "metadata": {
        "colab": {
          "base_uri": "https://localhost:8080/"
        },
        "id": "sVIkMpQ03tSC",
        "outputId": "a97486a8-76a5-4065-de9f-472ad57040a4"
      },
      "execution_count": 1,
      "outputs": [
        {
          "output_type": "stream",
          "name": "stdout",
          "text": [
            "75.0㎠\n"
          ]
        }
      ]
    }
  ]
}