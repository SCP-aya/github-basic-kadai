{
  "nbformat": 4,
  "nbformat_minor": 0,
  "metadata": {
    "colab": {
      "provenance": []
    },
    "kernelspec": {
      "name": "python3",
      "display_name": "Python 3"
    },
    "language_info": {
      "name": "python"
    }
  },
  "cells": [
    {
      "cell_type": "code",
      "execution_count": null,
      "metadata": {
        "colab": {
          "base_uri": "https://localhost:8080/"
        },
        "id": "8YhZ9FSBz0bw",
        "outputId": "b9351649-b11d-40e2-9dfc-6f7284a2a56e"
      },
      "outputs": [
        {
          "output_type": "stream",
          "name": "stdout",
          "text": [
            "Collecting numpy==1.24.4\n",
            "  Downloading numpy-1.24.4.tar.gz (10.9 MB)\n",
            "\u001b[?25l     \u001b[90m━━━━━━━━━━━━━━━━━━━━━━━━━━━━━━━━━━━━━━━━\u001b[0m \u001b[32m0.0/10.9 MB\u001b[0m \u001b[31m?\u001b[0m eta \u001b[36m-:--:--\u001b[0m\r\u001b[2K     \u001b[91m━━\u001b[0m\u001b[91m╸\u001b[0m\u001b[90m━━━━━━━━━━━━━━━━━━━━━━━━━━━━━━━━━━━━━\u001b[0m \u001b[32m0.8/10.9 MB\u001b[0m \u001b[31m23.4 MB/s\u001b[0m eta \u001b[36m0:00:01\u001b[0m\r\u001b[2K     \u001b[91m━━━━━━━━━━━━━━━━━━━━━━\u001b[0m\u001b[91m╸\u001b[0m\u001b[90m━━━━━━━━━━━━━━━━━\u001b[0m \u001b[32m6.2/10.9 MB\u001b[0m \u001b[31m89.9 MB/s\u001b[0m eta \u001b[36m0:00:01\u001b[0m\r\u001b[2K     \u001b[91m━━━━━━━━━━━━━━━━━━━━━━━━━━━━━━━━━━━━━━\u001b[0m\u001b[91m╸\u001b[0m \u001b[32m10.9/10.9 MB\u001b[0m \u001b[31m155.4 MB/s\u001b[0m eta \u001b[36m0:00:01\u001b[0m\r\u001b[2K     \u001b[90m━━━━━━━━━━━━━━━━━━━━━━━━━━━━━━━━━━━━━━━━\u001b[0m \u001b[32m10.9/10.9 MB\u001b[0m \u001b[31m98.8 MB/s\u001b[0m eta \u001b[36m0:00:00\u001b[0m\n",
            "\u001b[?25h  Installing build dependencies ... \u001b[?25l\u001b[?25hdone\n",
            "  \u001b[1;31merror\u001b[0m: \u001b[1msubprocess-exited-with-error\u001b[0m\n",
            "  \n",
            "  \u001b[31m×\u001b[0m \u001b[32mGetting requirements to build wheel\u001b[0m did not run successfully.\n",
            "  \u001b[31m│\u001b[0m exit code: \u001b[1;36m1\u001b[0m\n",
            "  \u001b[31m╰─>\u001b[0m See above for output.\n",
            "  \n",
            "  \u001b[1;35mnote\u001b[0m: This error originates from a subprocess, and is likely not a problem with pip.\n",
            "  Getting requirements to build wheel ... \u001b[?25l\u001b[?25herror\n",
            "\u001b[1;31merror\u001b[0m: \u001b[1msubprocess-exited-with-error\u001b[0m\n",
            "\n",
            "\u001b[31m×\u001b[0m \u001b[32mGetting requirements to build wheel\u001b[0m did not run successfully.\n",
            "\u001b[31m│\u001b[0m exit code: \u001b[1;36m1\u001b[0m\n",
            "\u001b[31m╰─>\u001b[0m See above for output.\n",
            "\n",
            "\u001b[1;35mnote\u001b[0m: This error originates from a subprocess, and is likely not a problem with pip.\n"
          ]
        }
      ],
      "source": [
        "!pip install numpy==1.24.4 pandas==1.5.3 openpyxl==3.0.10"
      ]
    },
    {
      "cell_type": "code",
      "source": [
        "from openpyxl import Workbook\n",
        "from openpyxl.styles import Alignment, Font, Border, Side\n",
        "from datetime import datetime\n",
        "\n",
        "# ワークブックとシート作成\n",
        "wb = Workbook()\n",
        "ws = wb.active\n",
        "ws.title = \"請求書\"\n",
        "\n",
        "# 現在日付とファイル名\n",
        "today = datetime.today().strftime(\"%Y/%m/%d\")\n",
        "filename = f\"請求書_{datetime.today().strftime('%Y%m%d')}.xlsx\"\n",
        "\n",
        "# タイトル「請求書」(B2)\n",
        "ws['B2'] = \"請求書\"\n",
        "\n",
        "# 会社情報 (B4～B7)\n",
        "company_info = [\n",
        "    \"株式会社ABC\",\n",
        "    \"〒101-0022 東京都千代田区神田練塀町300\",\n",
        "    \"TEL:03-1234-5678 FAX:03-1234-5678\",\n",
        "    \"担当者名:鈴木一郎 様\"\n",
        "]\n",
        "for i, text in enumerate(company_info, start=4):\n",
        "    ws[f'B{i}'] = text\n",
        "\n",
        "# No.と日付 (F4:G5)\n",
        "ws['F4'] = \"No.\"\n",
        "ws['G4'] = \"0001\"\n",
        "ws['F5'] = \"日付\"\n",
        "ws['G5'] = today\n",
        "\n",
        "# 明細ヘッダー (B9:E9)\n",
        "headers = [\"商品名\", \"数量\", \"単価\", \"金額\"]\n",
        "for col, header in enumerate(headers, start=2):\n",
        "    cell = ws.cell(row=9, column=col)\n",
        "    cell.value = header\n",
        "    cell.alignment = Alignment(horizontal='center')\n",
        "\n",
        "# 明細データ (商品A, 商品B)\n",
        "items = [\n",
        "    [\"商品A\", 2, 10000, 20000],\n",
        "    [\"商品B\", 1, 15000, 15000]\n",
        "]\n",
        "for row_idx, item in enumerate(items, start=10):\n",
        "    for col_idx, value in enumerate(item, start=2):\n",
        "        cell = ws.cell(row=row_idx, column=col_idx)\n",
        "        cell.value = value\n",
        "        cell.alignment = Alignment(horizontal='center')\n",
        "\n",
        "# 合計・消費税・税込合計 (B14～E16)\n",
        "ws['B14'] = \"合計\"\n",
        "ws['E14'] = \"=SUM(E10:E11)\"\n",
        "ws['B15'] = \"消費税\"\n",
        "ws['E15'] = \"=ROUND(E14*0.1,0)\"\n",
        "ws['B16'] = \"税込合計\"\n",
        "ws['E16'] = \"=E14+E15\"\n",
        "\n",
        "for row in range(14, 17):\n",
        "    ws[f'D{row}'].alignment = Alignment(horizontal='right')\n",
        "    ws[f'D{row}'].font = Font(bold=True)\n",
        "    ws[f'E{row}'].alignment = Alignment(horizontal='right')\n",
        "\n",
        "# 列幅調整\n",
        "column_widths = {'B': 20, 'C': 10, 'D': 15, 'E': 15, 'F': 8, 'G': 15}\n",
        "for col, width in column_widths.items():\n",
        "    ws.column_dimensions[col].width = width\n",
        "\n",
        "# 保存\n",
        "wb.save(filename)"
      ],
      "metadata": {
        "id": "SxjDgqqGzmqn"
      },
      "execution_count": 7,
      "outputs": []
    }
  ]
}