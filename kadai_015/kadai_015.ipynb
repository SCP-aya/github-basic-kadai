{
  "nbformat": 4,
  "nbformat_minor": 0,
  "metadata": {
    "colab": {
      "provenance": []
    },
    "kernelspec": {
      "name": "python3",
      "display_name": "Python 3"
    },
    "language_info": {
      "name": "python"
    }
  },
  "cells": [
    {
      "cell_type": "code",
      "source": [
        "# Humanクラス\n",
        "class Human:\n",
        "    def __init__(self, name, age):\n",
        "        # 属性：名前と年齢を初期化\n",
        "        self.name = name\n",
        "        self.age = age\n",
        "\n",
        "    def printinfo(self):\n",
        "        # メソッド：名前と年齢を表示\n",
        "        print(\"名前:\", self.name)\n",
        "        print(\"年齢:\", self.age)\n",
        "\n",
        "# インスタンスを作成し、変数に代入\n",
        "person = Human(\"小林\", 42)\n",
        "\n",
        "# メソッドを呼び出して情報を表示\n",
        "person.printinfo()"
      ],
      "metadata": {
        "colab": {
          "base_uri": "https://localhost:8080/"
        },
        "id": "Po0kY2IlWVJg",
        "outputId": "694aed57-6b04-4864-9d72-f8b325637640"
      },
      "execution_count": 19,
      "outputs": [
        {
          "output_type": "stream",
          "name": "stdout",
          "text": [
            "名前: 小林\n",
            "年齢: 42\n"
          ]
        }
      ]
    }
  ]
}