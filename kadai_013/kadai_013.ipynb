{
  "nbformat": 4,
  "nbformat_minor": 0,
  "metadata": {
    "colab": {
      "provenance": []
    },
    "kernelspec": {
      "name": "python3",
      "display_name": "Python 3"
    },
    "language_info": {
      "name": "python"
    }
  },
  "cells": [
    {
      "cell_type": "code",
      "source": [
        "# 税込価格を計算\n",
        "def calculate_tax(price, tax_rate):\n",
        "     return price * (1 + tax_rate / 100)\n",
        "\n",
        " # 商品の金額\n",
        "price = 110\n",
        " # 消費税率（％）\n",
        "tax_rate = 10\n",
        "\n",
        "# 関数を呼び出し\n",
        "result = calculate_tax(price, tax_rate )\n",
        "# 計算結果\n",
        "print(\"税込価格:\", result)"
      ],
      "metadata": {
        "colab": {
          "base_uri": "https://localhost:8080/"
        },
        "id": "f7mEeKKCKUaq",
        "outputId": "c9f7cbd5-3bc9-4238-cf72-431309f03687"
      },
      "execution_count": 12,
      "outputs": [
        {
          "output_type": "stream",
          "name": "stdout",
          "text": [
            "税込価格: 121.00000000000001\n"
          ]
        }
      ]
    }
  ]
}