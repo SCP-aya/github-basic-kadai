{
  "nbformat": 4,
  "nbformat_minor": 0,
  "metadata": {
    "colab": {
      "provenance": []
    },
    "kernelspec": {
      "name": "python3",
      "display_name": "Python 3"
    },
    "language_info": {
      "name": "python"
    }
  },
  "cells": [
    {
      "cell_type": "code",
      "source": [
        "# Humanクラス作成\n",
        "class Human:\n",
        "    def __init__(self, name, age):\n",
        "        self.name = name\n",
        "        self.age = age\n",
        "# 20歳以上が大人、以外が大人でない(関数、条件分岐）\n",
        "    def check_adult(self):\n",
        "        if self.age >= 20:\n",
        "            print(f\"{self.name}（{self.age}歳）は大人です。\")\n",
        "        else:\n",
        "            print(f\"{self.name}（{self.age}歳）は大人ではありません。\")\n",
        "\n",
        "# リスト・ディクショナリ\n",
        "human_list = [Human(\"一郎\", 40), Human(\"ふうか\", 6), Human(\"綾\", 30), Human(\"千華\", 8), Human(\"しづ\",18)]\n",
        "\n",
        "# 繰り返し\n",
        "for human in human_list:\n",
        "    human.check_adult()\n"
      ],
      "metadata": {
        "colab": {
          "base_uri": "https://localhost:8080/"
        },
        "id": "1R1E8LOnYZMy",
        "outputId": "9a00cf3b-947f-4c8b-bc58-6c4a86bd7102"
      },
      "execution_count": 7,
      "outputs": [
        {
          "output_type": "stream",
          "name": "stdout",
          "text": [
            "一郎（40歳）は大人です。\n",
            "ふうか（6歳）は大人ではありません。\n",
            "綾（30歳）は大人です。\n",
            "千華（8歳）は大人ではありません。\n",
            "しづ（18歳）は大人ではありません。\n"
          ]
        }
      ]
    }
  ]
}